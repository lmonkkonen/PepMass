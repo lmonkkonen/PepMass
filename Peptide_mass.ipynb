{
 "metadata": {
  "name": "",
  "signature": "sha256:288a1314553a371519343649076ce0cc606a7ada838deefd82e7079aa32cd2b2"
 },
 "nbformat": 3,
 "nbformat_minor": 0,
 "worksheets": [
  {
   "cells": [
    {
     "cell_type": "code",
     "collapsed": false,
     "input": [
      "import re\n",
      "\n",
      "AAmass = 'A 71.037114,R 156.101111,N 114.042927,D 115.026943,C 103.009185,E 129.042593,Q 128.058578,G 57.021464,H 137.058912,I 113.084064,L 113.084064,K 128.094963,M 131.040485,F 147.068414,P 97.052764,S 87.032028,T 101.047679,W 186.079313,Y 163.06332,V 99.068414,'\n",
      "\n",
      "peptide = 'NIPKNFEDVGHSTDAR'\n",
      "\n",
      "mass = 0\n",
      "\n",
      "masslist = []\n",
      "\n",
      "for aa in peptide:\n",
      "    \n",
      "    mass = mass + float(''.join(re.findall(aa + r'\\s(\\S*?)\\,', AAmass)))\n",
      "    \n",
      "    masslist.append(mass)\n",
      "    \n",
      "print mass\n",
      "print '\\n'\n",
      "\n",
      "print masslist[0]\n",
      "print ''.join(re.findall('(\\w)\\s' + str(masslist[0]), AAmass)[0])\n",
      "\n",
      "\n",
      "\n",
      "i = 1\n",
      "\n",
      "while i < (len(masslist)):\n",
      "    \n",
      "    aamass = str(masslist[i]-masslist[i-1])\n",
      "    print aamass\n",
      "    print ''.join(re.findall('(\\w)\\s' + str(aamass), AAmass)[0])\n",
      "    i = i + 1\n"
     ],
     "language": "python",
     "metadata": {},
     "outputs": [
      {
       "output_type": "stream",
       "stream": "stdout",
       "text": [
        "1780.84926\n",
        "\n",
        "\n",
        "114.042927\n",
        "N\n",
        "113.084064\n",
        "I\n",
        "97.052764\n",
        "P\n",
        "128.094963\n",
        "K\n",
        "114.042927\n",
        "N\n",
        "147.068414\n",
        "F\n",
        "129.042593\n",
        "E\n",
        "115.026943\n",
        "D\n",
        "99.068414\n",
        "V\n",
        "57.021464\n",
        "G\n",
        "137.058912\n",
        "H\n",
        "87.032028\n",
        "S\n",
        "101.047679\n",
        "T\n",
        "115.026943\n",
        "D\n",
        "71.037114\n",
        "A\n",
        "156.101111\n",
        "R\n"
       ]
      }
     ],
     "prompt_number": 3
    },
    {
     "cell_type": "code",
     "collapsed": false,
     "input": [],
     "language": "python",
     "metadata": {},
     "outputs": []
    }
   ],
   "metadata": {}
  }
 ]
}